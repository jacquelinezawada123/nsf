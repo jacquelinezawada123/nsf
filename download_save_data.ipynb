{
 "cells": [
  {
   "cell_type": "markdown",
   "metadata": {},
   "source": [
    "Retrieve an unzip data files, then append individual award data into a list. This run takes around 1 hour to finish due to large file size, but it only has to be done once if the data list is saved into a pickle for future use."
   ]
  },
  {
   "cell_type": "code",
   "execution_count": null,
   "metadata": {},
   "outputs": [],
   "source": [
    "import urllib.request\n",
    "import zipfile\n",
    "import xmlschema\n",
    "import os\n",
    "import pickle\n",
    "import numpy as np\n",
    "import pandas as pd\n",
    "\n",
    "nsf_schema = xmlschema.XMLSchema('Award.xsd')\n",
    "years = list(range(2021,1999,-1))\n",
    "nsf_data = []\n",
    "\n",
    "for year in years:\n",
    "    url = 'https://www.nsf.gov/awardsearch/download?DownloadFileName={}&All=true'.format(year)\n",
    "    zip_name = '{}.zip'.format(year)\n",
    "    folder = '{}/'.format(year)\n",
    "    \n",
    "    urllib.request.urlretrieve(url,zip_name)\n",
    "    \n",
    "    with zipfile.ZipFile(zip_name, 'r') as zip_ref:\n",
    "        zip_ref.extractall(folder)\n",
    "    \n",
    "    for file in os.listdir(folder): \n",
    "        filename = folder + file\n",
    "        try:\n",
    "            award = nsf_schema.to_dict(filename) \n",
    "            nsf_data.append(award)\n",
    "        except:\n",
    "            continue"
   ]
  },
  {
   "cell_type": "code",
   "execution_count": null,
   "metadata": {},
   "outputs": [],
   "source": [
    "#Save data into a pickle for future use\n",
    "with open(\"nsf_data.pickle\", \"wb\") as file_:\n",
    "    pickle.dump(nsf_data, file_, -1)"
   ]
  },
  {
   "cell_type": "code",
   "execution_count": 2,
   "metadata": {},
   "outputs": [],
   "source": [
    "#Create a blank dict with whatever features you're interested in from the award information\n",
    "award_dict = {'AwardID':[],\n",
    "              'AwardTitle':[],\n",
    "              'AwardEffectiveDate':[],\n",
    "              'AwardExpirationDate':[],\n",
    "              'AwardInstrument':[],\n",
    "              'MinAmdLetterDate':[],\n",
    "              'MaxAmdLetterDate':[],\n",
    "              'TRAN_TYPE':[],\n",
    "             'AwardAmount':[],\n",
    "             'AwardTotalIntnAmount':[],\n",
    "             'Directorate':[],\n",
    "             'Division':[],\n",
    "             'Institution':[],\n",
    "             'ProgramElement':[],\n",
    "             'ProgramReference':[]}\n",
    "\n",
    "for award in nsf_data:\n",
    "    try:\n",
    "        award_dict['AwardID'].append(award['Award']['AwardID']) #Add the information to the award_dict\n",
    "    except:\n",
    "        award_dict['AwardID'].append(np.NaN) #In some cases, the information is missing so a NaN is added instead\n",
    "    \n",
    "    try:\n",
    "        award_dict['AwardTitle'].append(award['Award']['AwardTitle'])\n",
    "    except:\n",
    "        award_dict['AwardTitle'].append(np.NaN)\n",
    "        \n",
    "    try:\n",
    "        award_dict['AwardEffectiveDate'].append(award['Award']['AwardEffectiveDate'])\n",
    "    except:\n",
    "        award_dict['AwardEffectiveDate'].append(np.NaN)\n",
    "        \n",
    "    try:\n",
    "        award_dict['AwardExpirationDate'].append(award['Award']['AwardExpirationDate'])\n",
    "    except:\n",
    "        award_dict['AwardExpirationDate'].append(np.NaN)\n",
    "        \n",
    "    try:\n",
    "        award_dict['AwardInstrument'].append(award['Award']['AwardInstrument']['Value'])\n",
    "    except:\n",
    "        award_dict['AwardInstrument'].append(np.NaN)\n",
    "    \n",
    "    try:\n",
    "        award_dict['MinAmdLetterDate'].append(award['Award']['MinAmdLetterDate'])\n",
    "    except:\n",
    "        award_dict['MinAmdLetterDate'].append(np.NaN)\n",
    "        \n",
    "    try:\n",
    "        award_dict['MaxAmdLetterDate'].append(award['Award']['MaxAmdLetterDate'])\n",
    "    except:\n",
    "        award_dict['MaxAmdLetterDate'].append(np.NaN)\n",
    "        \n",
    "    try:\n",
    "        award_dict['TRAN_TYPE'].append(award['Award']['TRAN_TYPE'])\n",
    "    except:\n",
    "        award_dict['TRAN_TYPE'].append(np.NaN)\n",
    "        \n",
    "    try:\n",
    "        award_dict['AwardAmount'].append(award['Award']['AwardAmount'])\n",
    "    except:\n",
    "        award_dict['AwardAmount'].append(np.NaN)\n",
    "        \n",
    "    try:\n",
    "        award_dict['AwardTotalIntnAmount'].append(award['Award']['AwardTotalIntnAmount'])\n",
    "    except:\n",
    "        award_dict['AwardTotalIntnAmount'].append(np.NaN)\n",
    "        \n",
    "    try:\n",
    "        award_dict['Directorate'].append(award['Award']['Organization']['Directorate']['LongName'])\n",
    "    except:\n",
    "        award_dict['Directorate'].append(np.NaN)\n",
    "        \n",
    "    try:\n",
    "        award_dict['Division'].append(award['Award']['Organization']['Division']['LongName'])\n",
    "    except:\n",
    "        award_dict['Division'].append(np.NaN)\n",
    "        \n",
    "    try:\n",
    "        award_dict['Institution'].append(award['Award']['Institution'][0]['Name'])\n",
    "    except:\n",
    "        award_dict['Institution'].append(np.NaN)\n",
    "        \n",
    "    try:\n",
    "        award_dict['ProgramElement'].append(award['Award']['ProgramElement'])\n",
    "    except:\n",
    "        award_dict['ProgramElement'].append(np.NaN)\n",
    "        \n",
    "    try:\n",
    "        award_dict['ProgramReference'].append(award['Award']['ProgramReference'])\n",
    "    except:\n",
    "        award_dict['ProgramReference'].append(np.NaN)  \n",
    "\n",
    "nsf_df = pd.DataFrame(award_dict)"
   ]
  },
  {
   "cell_type": "markdown",
   "metadata": {},
   "source": [
    "For optimal analysis, the data needs some corrections, such as inconsistent Directorate names."
   ]
  },
  {
   "cell_type": "code",
   "execution_count": null,
   "metadata": {},
   "outputs": [],
   "source": [
    "nsf_df = nsf_df.replace('Directorate for Social, Behavioral & Economic Sciences','Direct For Social, Behav & Economic Scie')\n",
    "nsf_df = nsf_df.replace('Directorate for Education & Human Resources','Direct For Education and Human Resources')\n",
    "nsf_df = nsf_df.replace('Office Of Information & Resource Mgmt','Office of Information & Resource Management')\n",
    "nsf_df = nsf_df.replace('Division Of Integrative Organismal Sys','Division Of Integrative Organismal Systems')\n",
    "nsf_df = nsf_df.replace('Directorate for Geosciences','Directorate For Geosciences')"
   ]
  },
  {
   "cell_type": "markdown",
   "metadata": {},
   "source": [
    "The time data can be converted to datetime to do time analysis"
   ]
  },
  {
   "cell_type": "code",
   "execution_count": null,
   "metadata": {},
   "outputs": [],
   "source": [
    "nsf_df['AwardEffectiveDate'] = pd.to_datetime(nsf_df['AwardEffectiveDate'])\n",
    "nsf_df['AwardExpirationDate'] = pd.to_datetime(nsf_df['AwardExpirationDate'])\n",
    "nsf_df['MinAmdLetterDate'] = pd.to_datetime(nsf_df['MinAmdLetterDate'])\n",
    "nsf_df['MaxAmdLetterDate'] = pd.to_datetime(nsf_df['MaxAmdLetterDate'])"
   ]
  },
  {
   "cell_type": "code",
   "execution_count": null,
   "metadata": {},
   "outputs": [],
   "source": [
    "#Save the corrected dataframe into a pickle for future use\n",
    "with open(\"nsf_df.pickle\", \"wb\") as file_:\n",
    "    pickle.dump(nsf_df, file_, -1)"
   ]
  },
  {
   "cell_type": "code",
   "execution_count": null,
   "metadata": {},
   "outputs": [],
   "source": []
  }
 ],
 "metadata": {
  "kernelspec": {
   "display_name": "Python 3",
   "language": "python",
   "name": "python3"
  },
  "language_info": {
   "codemirror_mode": {
    "name": "ipython",
    "version": 3
   },
   "file_extension": ".py",
   "mimetype": "text/x-python",
   "name": "python",
   "nbconvert_exporter": "python",
   "pygments_lexer": "ipython3",
   "version": "3.7.4"
  }
 },
 "nbformat": 4,
 "nbformat_minor": 4
}
